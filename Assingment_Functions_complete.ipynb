{
  "nbformat": 4,
  "nbformat_minor": 0,
  "metadata": {
    "colab": {
      "provenance": []
    },
    "kernelspec": {
      "name": "python3",
      "display_name": "Python 3"
    },
    "language_info": {
      "name": "python"
    }
  },
  "cells": [
    {
      "cell_type": "markdown",
      "source": [
        "# Theoritical Question"
      ],
      "metadata": {
        "id": "aEZaMQDSEs6v"
      }
    },
    {
      "cell_type": "markdown",
      "source": [
        "1. What is the different between a function ana a method in Python\n",
        "\n",
        "Answer -- In Python a function is a block of code that prforms a specific task and is define using the def keywords. It is not tied to any object and can be called independently. Amothod on the other hand, is also defined using def, but it is writen inside a class and is associate with and object Whe you call a method it automacticcally takes the instance of the class (commonly referred to as self) as its first argument , whch allows it to access and modify the object's attributes.\n",
        "\n",
        "**Example:**"
      ],
      "metadata": {
        "id": "4ZKIOcUtSaS-"
      }
    },
    {
      "cell_type": "code",
      "source": [
        "#function\n",
        "\n",
        "def add_numbers(a,b):\n",
        "    return a+b\n",
        "\n",
        "result = add_numbers(5,3)\n",
        "print(result)\n",
        "\n",
        "#Method\n",
        "class Calculator:\n",
        "    def add(self,a,b):\n",
        "        return a+b\n",
        "\n",
        "calc = Calculator()\n",
        "result = calc.add(5,3)\n",
        "print(result)"
      ],
      "metadata": {
        "colab": {
          "base_uri": "https://localhost:8080/"
        },
        "id": "ZE6oRhHeTbB1",
        "outputId": "ecae2256-825d-4796-a45c-4d8f8f01e0e1"
      },
      "execution_count": null,
      "outputs": [
        {
          "output_type": "stream",
          "name": "stdout",
          "text": [
            "8\n",
            "8\n"
          ]
        }
      ]
    },
    {
      "cell_type": "markdown",
      "source": [
        "2. What is the concept of fuction arguments and parameter in python\n",
        "\n",
        "Answer -- In Parameter and argument are related but different concept used in functions.\n",
        "\n",
        "\n",
        "\n",
        "*   Parameter are the variable listed in a function's defination. Thy act as  placeholders for the value the function expects.\n",
        "*   Argument are the actual value passed to the function when it is called.\n",
        "\n",
        "**Exaple:**\n",
        "\n",
        "\n",
        "\n"
      ],
      "metadata": {
        "id": "4JFZJXauTzoV"
      }
    },
    {
      "cell_type": "code",
      "source": [
        "def multiply(a, b):\n",
        "  return a * b\n",
        "def multiply(a, b):\n",
        "  return a * b\n",
        "\n",
        "multiply(3, 4)\n",
        "print(multiply(3,4))"
      ],
      "metadata": {
        "colab": {
          "base_uri": "https://localhost:8080/"
        },
        "id": "yaXchy4LVV3e",
        "outputId": "d3ca412b-46d7-47b1-e357-9fd99cb2e0c2"
      },
      "execution_count": null,
      "outputs": [
        {
          "output_type": "stream",
          "name": "stdout",
          "text": [
            "12\n"
          ]
        }
      ]
    },
    {
      "cell_type": "markdown",
      "source": [
        "In this example a and b are parimeter used in the function defination. When we call multiply(3,4) The values 3 and 4 are argument passed to those"
      ],
      "metadata": {
        "id": "twqYcvP1VoDF"
      }
    },
    {
      "cell_type": "markdown",
      "source": [
        "3. What are the different ways to define and call a function in python.\n",
        "\n",
        "Answer -- In python, Function can be defined and called in several ways, depending on how they are structured and used. Here is a breckdown of the main ways to define and call function, with **Exaple;**\n",
        "\n",
        " 1. Standerd function Definition"
      ],
      "metadata": {
        "id": "q6sqf0l2V9JE"
      }
    },
    {
      "cell_type": "code",
      "source": [
        "#  Define using the def keywords\n",
        "\n",
        "def great(name):\n",
        "  return f\"Hello, {name}!\"\n",
        "print(great(\"Yamaan\"))"
      ],
      "metadata": {
        "colab": {
          "base_uri": "https://localhost:8080/"
        },
        "id": "NEGTYsYrWvv_",
        "outputId": "f119ed9f-c67f-4d91-f628-9f18406be18d"
      },
      "execution_count": null,
      "outputs": [
        {
          "output_type": "stream",
          "name": "stdout",
          "text": [
            "Hello, Yamaan!\n"
          ]
        }
      ]
    },
    {
      "cell_type": "markdown",
      "source": [
        "2. **Function with Default parameters**"
      ],
      "metadata": {
        "id": "vpuqr7EUaJ0v"
      }
    },
    {
      "cell_type": "code",
      "source": [
        "#parameter have default value\n",
        "\n",
        "def great(name= \"Yamaan\"):\n",
        "  return f\"Hello, {name}!\"\n",
        "print(great())\n"
      ],
      "metadata": {
        "colab": {
          "base_uri": "https://localhost:8080/"
        },
        "id": "t7kLfJ26aWNe",
        "outputId": "0cbb7734-030f-4f14-99c4-622ea252f719"
      },
      "execution_count": null,
      "outputs": [
        {
          "output_type": "stream",
          "name": "stdout",
          "text": [
            "Hello, Yamaan!\n"
          ]
        }
      ]
    },
    {
      "cell_type": "markdown",
      "source": [
        "**3. Function with variable Number of Argument**"
      ],
      "metadata": {
        "id": "P0bgPOoLa5El"
      }
    },
    {
      "cell_type": "code",
      "source": [
        "# *args and *kwargs\n",
        "\n",
        "def add_number(*args):\n",
        "  return sum(args)\n",
        "print(add_number(1,2,3,4,5))\n",
        "\n",
        "\n",
        "def print_info(**kwargs):\n",
        "  for key, value in kwargs.items():\n",
        "    print(f\"{key}: {value}\")\n",
        "print_info(name=\"Yamaan\", age=20)"
      ],
      "metadata": {
        "colab": {
          "base_uri": "https://localhost:8080/"
        },
        "id": "R1dsml6LbBwH",
        "outputId": "0d197c49-79c2-4dce-efd5-23ed2d73b648"
      },
      "execution_count": null,
      "outputs": [
        {
          "output_type": "stream",
          "name": "stdout",
          "text": [
            "15\n",
            "name: Yamaan\n",
            "age: 20\n"
          ]
        }
      ]
    },
    {
      "cell_type": "markdown",
      "source": [
        "**4. Lambda (Anonymous) Function**"
      ],
      "metadata": {
        "id": "bTUmfrVwbs8G"
      }
    },
    {
      "cell_type": "code",
      "source": [
        "\n",
        "\n",
        "square = lambda x: x**2\n",
        "print(square(3))"
      ],
      "metadata": {
        "colab": {
          "base_uri": "https://localhost:8080/"
        },
        "id": "AxEMrJL_gi9Q",
        "outputId": "f998a047-77e4-426f-be6b-70602c9ae737"
      },
      "execution_count": null,
      "outputs": [
        {
          "output_type": "stream",
          "name": "stdout",
          "text": [
            "25\n"
          ]
        }
      ]
    },
    {
      "cell_type": "markdown",
      "source": [
        "4. what are he purpose of the return statment in a Python?\n",
        "\n",
        "**Answer** -- The return statement in Python is used in functions to send back a value.\n",
        "It ends the function’s execution and passes the result to the caller.\n",
        "Without return, a function gives back None by default.\n",
        "It helps reuse results or store them in variables.\n",
        "You can return numbers, strings, lists, or even multiple values.\n",
        "return can also be used to exit a function early.\n",
        "\n",
        "**Example:**"
      ],
      "metadata": {
        "id": "oF03tFBrgq2n"
      }
    },
    {
      "cell_type": "code",
      "source": [
        "def square(n):\n",
        "    return n * n\n",
        "\n",
        "result = square(4)  # result is 16\n"
      ],
      "metadata": {
        "id": "PTXz_f-9hPIm"
      },
      "execution_count": null,
      "outputs": []
    },
    {
      "cell_type": "markdown",
      "source": [
        "5. what are iterators in python and how do thye differ form iterables\n",
        "\n",
        "**Answer** -- In Python, iterables are things you can loop through, like lists or strings.\n",
        "An iterator is an object that helps you go through items one by one.\n",
        "You get an iterator by using the iter() function on an iterable.\n",
        "The next() function gives the next item from the iterator.\n",
        "Once all items are used, next() raises a StopIteration error.\n",
        "Iterators remember where they left off; iterables do not.\n",
        "\n",
        "**Example:**"
      ],
      "metadata": {
        "id": "mzywC3VKhYW-"
      }
    },
    {
      "cell_type": "code",
      "source": [
        "nums = [1, 2, 3]\n",
        "it = iter(nums)\n",
        "print(next(it))\n",
        "print(next(it))\n",
        "print(next(it))\n"
      ],
      "metadata": {
        "colab": {
          "base_uri": "https://localhost:8080/"
        },
        "id": "PXkksVO6iZCG",
        "outputId": "e5fd82c2-98f3-406b-9a8f-6d8603c3587e"
      },
      "execution_count": null,
      "outputs": [
        {
          "output_type": "stream",
          "name": "stdout",
          "text": [
            "1\n",
            "2\n",
            "3\n"
          ]
        }
      ]
    },
    {
      "cell_type": "markdown",
      "source": [
        "6. explain the concept of generation in python and how they are defined.\n",
        "\n",
        "**Answer** --  What Are Generators?\n",
        "Generators are a special way to create iterators.\n",
        "\n",
        "They allow you to generate values one at a time, using less memory.\n",
        "\n",
        "You define them using a function with yield instead of return.\n",
        "\n",
        " **How Do They Work?**\n",
        "Each time you call next() on a generator, it runs until it hits a yield.\n",
        "\n",
        "It pauses, remembers its place, and resumes from there next time.\n",
        "\n",
        " **Example:**\n",
        "python\n",
        "Copy\n",
        "Edit\n"
      ],
      "metadata": {
        "id": "TP6ZUl3_i5ZQ"
      }
    },
    {
      "cell_type": "code",
      "source": [
        "def count_up_to(n):\n",
        "    i = 1\n",
        "    while i <= n:\n",
        "        yield i\n",
        "        i += 1\n",
        "\n",
        "gen = count_up_to(3)\n",
        "print(next(gen))\n",
        "print(next(gen))\n",
        "print(next(gen))"
      ],
      "metadata": {
        "colab": {
          "base_uri": "https://localhost:8080/"
        },
        "id": "WoR1cWp9jlPX",
        "outputId": "4cb05394-9335-4e52-95dd-e5f835e3fa7e"
      },
      "execution_count": null,
      "outputs": [
        {
          "output_type": "stream",
          "name": "stdout",
          "text": [
            "1\n",
            "2\n",
            "3\n"
          ]
        }
      ]
    },
    {
      "cell_type": "markdown",
      "source": [
        "7. What are the advantage of using generators over regular function?\n",
        "\n",
        "**Answer** --\n",
        "Memory Efficient – Generators don’t store all values in memory; they yield one at a time.\n",
        "\n",
        "Faster Startup – They start producing results immediately without computing everything first.\n",
        "\n",
        "Lazy Evaluation – Values are generated only when needed, saving resources.\n",
        "\n",
        "Infinite Sequences – Useful for creating endless data streams like counting forever.\n",
        "\n",
        "Cleaner Code – Using yield can make loop-based logic easier to read.\n",
        "\n",
        "Better Performance – For large datasets, they reduce memory load and speed up processing.\n",
        "\n",
        "Pause and Resume – Generators remember their state between next() calls.\n",
        "\n",
        "Less Overhead – They avoid the need for temporary data structures like lists."
      ],
      "metadata": {
        "id": "uZrG6b4okXiv"
      }
    },
    {
      "cell_type": "markdown",
      "source": [
        "8.what is lambda function in python and when is typically used?\n",
        "\n",
        "**Answer** --\n",
        "A lambda function is a small, anonymous function in Python.\n",
        "\n",
        "It is defined using the lambda keyword instead of def.\n",
        "\n",
        "Syntax: lambda arguments: expression\n",
        "\n",
        "It can have any number of arguments, but only one expression.\n",
        "\n",
        "It’s often used for short, simple functions.\n",
        "\n",
        "Commonly used with functions like map(), filter(), and sorted().\n",
        "\n",
        "Lambda functions are written in one line.\n",
        "\n",
        "Example: square = lambda x: x * x → square(3) returns 9."
      ],
      "metadata": {
        "id": "GoNEu-iumEs_"
      }
    },
    {
      "cell_type": "markdown",
      "source": [
        "9. what are the different between **map()**, **reduce()**, and **filter()** function in python\n",
        "\n",
        "**Answer**--\n",
        " map() applies a function to each item or transforms data.\n",
        "\n",
        "filter() selects items that satisfy a condition or filters data.\n",
        "\n",
        "reduce() combines all items into one value or aggregates data.\n",
        "\n",
        "map() returns an iterable or a mapped object.\n",
        "\n",
        "filter() returns an iterable or a filtered object.\n",
        "\n",
        "reduce() returns a single value or a summarized result.\n",
        "\n",
        "You import reduce from functools or use it for cumulative operations.\n",
        "\n",
        "Use map() for applying, filter() for selecting, reduce() for combining.\n",
        "\n",
        "\n",
        "\n",
        "\n",
        "\n",
        "\n",
        "\n",
        "\n"
      ],
      "metadata": {
        "id": "93i7IupemiDA"
      }
    },
    {
      "cell_type": "markdown",
      "source": [
        "10. What is the difference between `map()`, `reduce()`, and `filter()` functions in Python?\n",
        "\n",
        "**Answer** - The map(), filter(), and reduce() functions in Python are used to process collections like lists in different ways, each serving a unique purpose. The map() function is used when you want to apply the same operation to every item in a list. For example, if you have a list of numbers and want to square each one, map() lets you apply a function to each element and returns a new list with the results. On the other hand, filter() is used to remove items from a list based on a condition. So if you only want the even numbers from a list, you'd use filter() with a function that checks whether each number is divisible by 2. Finally, reduce(), which you have to import from the functools module, is a bit different—it combines all the elements in a list into a single value by applying a function cumulatively. For example, to multiply all numbers in a list together, you’d use reduce(). In short, map() transforms each item, filter() selects certain items, and reduce() summarizes everything into one result.\n",
        "\n",
        "\n",
        "\n",
        "\n",
        "\n",
        "\n",
        "\n",
        "\n"
      ],
      "metadata": {
        "id": "fm0IC1oR9YOT"
      }
    },
    {
      "cell_type": "markdown",
      "source": [
        "11.  Using pen & Paper write the internal mechanism for sum operation using  reduce function on this given\n",
        "list:[47,11,42,13];"
      ],
      "metadata": {
        "id": "4CMSt3hA9eDr"
      }
    },
    {
      "cell_type": "markdown",
      "source": [
        "# Practical Question"
      ],
      "metadata": {
        "id": "O474kbvxB2FS"
      }
    },
    {
      "cell_type": "markdown",
      "source": [
        "1. Write a Python function that takes a list of numbers as input and return the sum of all even numbers in the list."
      ],
      "metadata": {
        "id": "IxQyglc9B9yf"
      }
    },
    {
      "cell_type": "code",
      "source": [
        "number = input(\"Eter a number\").split()\n",
        "number = [int(num) for num in number]\n",
        "even_sum = sum(num for num in number if num % 2 == 0)\n",
        "odd_sum = sum(num for num in number if num % 2 == 1)\n",
        "print(even_sum)\n",
        "print(odd_sum)"
      ],
      "metadata": {
        "colab": {
          "base_uri": "https://localhost:8080/"
        },
        "id": "j6P1VINRsb9J",
        "outputId": "776b8aea-297e-4874-e5e2-70c80fd05fc8"
      },
      "execution_count": null,
      "outputs": [
        {
          "output_type": "stream",
          "name": "stdout",
          "text": [
            "Eter a number1 2 3 4 5 5\n",
            "6\n",
            "14\n"
          ]
        }
      ]
    },
    {
      "cell_type": "markdown",
      "source": [
        "2. create a Python that accepts a string and return the reverse of that string."
      ],
      "metadata": {
        "id": "wih7tVc8CP9Q"
      }
    },
    {
      "cell_type": "code",
      "source": [
        "mixed_data = [\n",
        "    \"Alice\",\n",
        "    (10, 20),\n",
        "    [\"apple\", \"banana\"],\n",
        "    {\"age\": 25, \"city\": \"NY\"}\n",
        "]\n",
        "for i in mixed_data:\n",
        "    if type(i)== str:\n",
        "      print(i)\n",
        "# we can do also another type\n",
        "mixed_data = [\n",
        "    \"Alice\",\n",
        "    (10, 20),\n",
        "    [\"apple\", \"banana\"],\n",
        "    {\"age\": 25, \"city\": \"NY\"}\n",
        "]\n",
        "for i in mixed_data:\n",
        "    if isinstance(i, str):\n",
        "      reversed_string = i[::-1]\n",
        "      print(reversed_string)\n",
        "\n"
      ],
      "metadata": {
        "colab": {
          "base_uri": "https://localhost:8080/"
        },
        "id": "rIfsQ5bGwfyh",
        "outputId": "275f28d4-303f-4502-8a3b-a3664899c3e6"
      },
      "execution_count": null,
      "outputs": [
        {
          "output_type": "stream",
          "name": "stdout",
          "text": [
            "Alice\n",
            "ecilA\n"
          ]
        }
      ]
    },
    {
      "cell_type": "markdown",
      "source": [
        "3. Implement a Pythonfunction that take a list of integers and returns the return a new list containing the square of each number"
      ],
      "metadata": {
        "id": "d6NTrkr3CdcO"
      }
    },
    {
      "cell_type": "code",
      "source": [
        "def square_list(numbers):\n",
        "    return [num ** 2 for num in numbers]\n",
        "\n",
        "# Example usage\n",
        "original_list = [1, 2, 3, 4, 5]\n",
        "result = square_list(original_list)\n",
        "print(\"List of squares:\", result)\n"
      ],
      "metadata": {
        "colab": {
          "base_uri": "https://localhost:8080/"
        },
        "id": "nz2NfTeCxAOy",
        "outputId": "ebab8f49-80e2-4360-fe8f-69bdef60f128"
      },
      "execution_count": null,
      "outputs": [
        {
          "output_type": "stream",
          "name": "stdout",
          "text": [
            "List of squares: [1, 4, 9, 16, 25]\n"
          ]
        }
      ]
    },
    {
      "cell_type": "markdown",
      "source": [
        "4. Write a python function theat checks if a given number is prime or not from 1 to 200."
      ],
      "metadata": {
        "id": "NZVIqee3Cwdc"
      }
    },
    {
      "cell_type": "code",
      "source": [
        "def is_prime(num):\n",
        "    if num <= 1:\n",
        "        return False\n",
        "    for i in range(2, int(num**0.5) + 1):\n",
        "        if num % i == 0:\n",
        "            return False\n",
        "    return True\n",
        "\n",
        "number = int(input(\"Enter a number: \"))\n",
        "if is_prime(number) and (number < 1 or number > 200):\n",
        "  def is_prime(num):\n",
        "    if num <= 1:\n",
        "        return False\n",
        "    for i in range(2, int(num**0.5) + 1):\n",
        "        if num % i == 0:\n",
        "            return False\n",
        "    return True\n",
        "\n",
        "\n",
        "\n",
        "number = int(input(\"Enter a number: \"))\n",
        "if is_prime(number) and (number < 1 or number > 200):\n",
        "    print(f\"{number} is prime and NOT between 1 and 200.\")\n",
        "else:\n",
        "    if is_prime(number):\n",
        "        print(f\"{number} is prime\")\n",
        "\n",
        "\n",
        "\n",
        "\n"
      ],
      "metadata": {
        "colab": {
          "base_uri": "https://localhost:8080/"
        },
        "id": "DUkLjYJr0DVb",
        "outputId": "c7752066-134f-4bd6-8c95-d3534f2ba777"
      },
      "execution_count": null,
      "outputs": [
        {
          "name": "stdout",
          "output_type": "stream",
          "text": [
            "Enter a number: 399\n",
            "Enter a number: 4484\n"
          ]
        }
      ]
    },
    {
      "cell_type": "markdown",
      "source": [
        "6. Write a generator function in Python tht yields the powers of 2 up to given exponent."
      ],
      "metadata": {
        "id": "e6pz8zCIDAXw"
      }
    },
    {
      "cell_type": "code",
      "source": [
        "def power_of_two(max_exponent):\n",
        "  for exponent in range (max_exponent + 1):\n",
        "    yield 2 ** exponent\n",
        "\n",
        "for i in power_of_two(5):\n",
        "  print(i)"
      ],
      "metadata": {
        "colab": {
          "base_uri": "https://localhost:8080/"
        },
        "id": "GPCvinNzNbwr",
        "outputId": "056fb9dd-8026-4a00-a569-6044ead6cd73"
      },
      "execution_count": null,
      "outputs": [
        {
          "output_type": "stream",
          "name": "stdout",
          "text": [
            "1\n",
            "2\n",
            "4\n",
            "8\n",
            "16\n",
            "32\n"
          ]
        }
      ]
    },
    {
      "cell_type": "code",
      "source": [
        "from google.colab import files\n",
        "uploaded =files.upload()"
      ],
      "metadata": {
        "colab": {
          "base_uri": "https://localhost:8080/",
          "height": 71
        },
        "id": "nejKLUB3RU78",
        "outputId": "b69f8e7d-8a4a-421a-d50d-7642dd3da89c"
      },
      "execution_count": null,
      "outputs": [
        {
          "output_type": "display_data",
          "data": {
            "text/plain": [
              "<IPython.core.display.HTML object>"
            ],
            "text/html": [
              "\n",
              "     <input type=\"file\" id=\"files-94729925-b6c6-48dd-b62c-591e3f31fcad\" name=\"files[]\" multiple disabled\n",
              "        style=\"border:none\" />\n",
              "     <output id=\"result-94729925-b6c6-48dd-b62c-591e3f31fcad\">\n",
              "      Upload widget is only available when the cell has been executed in the\n",
              "      current browser session. Please rerun this cell to enable.\n",
              "      </output>\n",
              "      <script>// Copyright 2017 Google LLC\n",
              "//\n",
              "// Licensed under the Apache License, Version 2.0 (the \"License\");\n",
              "// you may not use this file except in compliance with the License.\n",
              "// You may obtain a copy of the License at\n",
              "//\n",
              "//      http://www.apache.org/licenses/LICENSE-2.0\n",
              "//\n",
              "// Unless required by applicable law or agreed to in writing, software\n",
              "// distributed under the License is distributed on an \"AS IS\" BASIS,\n",
              "// WITHOUT WARRANTIES OR CONDITIONS OF ANY KIND, either express or implied.\n",
              "// See the License for the specific language governing permissions and\n",
              "// limitations under the License.\n",
              "\n",
              "/**\n",
              " * @fileoverview Helpers for google.colab Python module.\n",
              " */\n",
              "(function(scope) {\n",
              "function span(text, styleAttributes = {}) {\n",
              "  const element = document.createElement('span');\n",
              "  element.textContent = text;\n",
              "  for (const key of Object.keys(styleAttributes)) {\n",
              "    element.style[key] = styleAttributes[key];\n",
              "  }\n",
              "  return element;\n",
              "}\n",
              "\n",
              "// Max number of bytes which will be uploaded at a time.\n",
              "const MAX_PAYLOAD_SIZE = 100 * 1024;\n",
              "\n",
              "function _uploadFiles(inputId, outputId) {\n",
              "  const steps = uploadFilesStep(inputId, outputId);\n",
              "  const outputElement = document.getElementById(outputId);\n",
              "  // Cache steps on the outputElement to make it available for the next call\n",
              "  // to uploadFilesContinue from Python.\n",
              "  outputElement.steps = steps;\n",
              "\n",
              "  return _uploadFilesContinue(outputId);\n",
              "}\n",
              "\n",
              "// This is roughly an async generator (not supported in the browser yet),\n",
              "// where there are multiple asynchronous steps and the Python side is going\n",
              "// to poll for completion of each step.\n",
              "// This uses a Promise to block the python side on completion of each step,\n",
              "// then passes the result of the previous step as the input to the next step.\n",
              "function _uploadFilesContinue(outputId) {\n",
              "  const outputElement = document.getElementById(outputId);\n",
              "  const steps = outputElement.steps;\n",
              "\n",
              "  const next = steps.next(outputElement.lastPromiseValue);\n",
              "  return Promise.resolve(next.value.promise).then((value) => {\n",
              "    // Cache the last promise value to make it available to the next\n",
              "    // step of the generator.\n",
              "    outputElement.lastPromiseValue = value;\n",
              "    return next.value.response;\n",
              "  });\n",
              "}\n",
              "\n",
              "/**\n",
              " * Generator function which is called between each async step of the upload\n",
              " * process.\n",
              " * @param {string} inputId Element ID of the input file picker element.\n",
              " * @param {string} outputId Element ID of the output display.\n",
              " * @return {!Iterable<!Object>} Iterable of next steps.\n",
              " */\n",
              "function* uploadFilesStep(inputId, outputId) {\n",
              "  const inputElement = document.getElementById(inputId);\n",
              "  inputElement.disabled = false;\n",
              "\n",
              "  const outputElement = document.getElementById(outputId);\n",
              "  outputElement.innerHTML = '';\n",
              "\n",
              "  const pickedPromise = new Promise((resolve) => {\n",
              "    inputElement.addEventListener('change', (e) => {\n",
              "      resolve(e.target.files);\n",
              "    });\n",
              "  });\n",
              "\n",
              "  const cancel = document.createElement('button');\n",
              "  inputElement.parentElement.appendChild(cancel);\n",
              "  cancel.textContent = 'Cancel upload';\n",
              "  const cancelPromise = new Promise((resolve) => {\n",
              "    cancel.onclick = () => {\n",
              "      resolve(null);\n",
              "    };\n",
              "  });\n",
              "\n",
              "  // Wait for the user to pick the files.\n",
              "  const files = yield {\n",
              "    promise: Promise.race([pickedPromise, cancelPromise]),\n",
              "    response: {\n",
              "      action: 'starting',\n",
              "    }\n",
              "  };\n",
              "\n",
              "  cancel.remove();\n",
              "\n",
              "  // Disable the input element since further picks are not allowed.\n",
              "  inputElement.disabled = true;\n",
              "\n",
              "  if (!files) {\n",
              "    return {\n",
              "      response: {\n",
              "        action: 'complete',\n",
              "      }\n",
              "    };\n",
              "  }\n",
              "\n",
              "  for (const file of files) {\n",
              "    const li = document.createElement('li');\n",
              "    li.append(span(file.name, {fontWeight: 'bold'}));\n",
              "    li.append(span(\n",
              "        `(${file.type || 'n/a'}) - ${file.size} bytes, ` +\n",
              "        `last modified: ${\n",
              "            file.lastModifiedDate ? file.lastModifiedDate.toLocaleDateString() :\n",
              "                                    'n/a'} - `));\n",
              "    const percent = span('0% done');\n",
              "    li.appendChild(percent);\n",
              "\n",
              "    outputElement.appendChild(li);\n",
              "\n",
              "    const fileDataPromise = new Promise((resolve) => {\n",
              "      const reader = new FileReader();\n",
              "      reader.onload = (e) => {\n",
              "        resolve(e.target.result);\n",
              "      };\n",
              "      reader.readAsArrayBuffer(file);\n",
              "    });\n",
              "    // Wait for the data to be ready.\n",
              "    let fileData = yield {\n",
              "      promise: fileDataPromise,\n",
              "      response: {\n",
              "        action: 'continue',\n",
              "      }\n",
              "    };\n",
              "\n",
              "    // Use a chunked sending to avoid message size limits. See b/62115660.\n",
              "    let position = 0;\n",
              "    do {\n",
              "      const length = Math.min(fileData.byteLength - position, MAX_PAYLOAD_SIZE);\n",
              "      const chunk = new Uint8Array(fileData, position, length);\n",
              "      position += length;\n",
              "\n",
              "      const base64 = btoa(String.fromCharCode.apply(null, chunk));\n",
              "      yield {\n",
              "        response: {\n",
              "          action: 'append',\n",
              "          file: file.name,\n",
              "          data: base64,\n",
              "        },\n",
              "      };\n",
              "\n",
              "      let percentDone = fileData.byteLength === 0 ?\n",
              "          100 :\n",
              "          Math.round((position / fileData.byteLength) * 100);\n",
              "      percent.textContent = `${percentDone}% done`;\n",
              "\n",
              "    } while (position < fileData.byteLength);\n",
              "  }\n",
              "\n",
              "  // All done.\n",
              "  yield {\n",
              "    response: {\n",
              "      action: 'complete',\n",
              "    }\n",
              "  };\n",
              "}\n",
              "\n",
              "scope.google = scope.google || {};\n",
              "scope.google.colab = scope.google.colab || {};\n",
              "scope.google.colab._files = {\n",
              "  _uploadFiles,\n",
              "  _uploadFilesContinue,\n",
              "};\n",
              "})(self);\n",
              "</script> "
            ]
          },
          "metadata": {}
        },
        {
          "output_type": "stream",
          "name": "stdout",
          "text": [
            "Saving question_file.xlsx to question_file.xlsx\n"
          ]
        }
      ]
    },
    {
      "cell_type": "markdown",
      "source": [
        "7. Implement a generator function that rad a files line by line and yeild each line as a string."
      ],
      "metadata": {
        "id": "0AHlGXihDcX6"
      }
    },
    {
      "cell_type": "code",
      "source": [
        "def read_file_line_by_line(question_file):\n",
        "    with open(question_file, 'r') as file:\n",
        "        for line in file:\n",
        "            yield line.strip()\n",
        "            yield line.strip()\n"
      ],
      "metadata": {
        "id": "RWNwJmn5dpIe"
      },
      "execution_count": null,
      "outputs": []
    },
    {
      "cell_type": "code",
      "source": [
        "for line in read_file_line_by_line(question_file.xlsx):  # Use the same filename variable\n",
        "    print(line)"
      ],
      "metadata": {
        "colab": {
          "base_uri": "https://localhost:8080/",
          "height": 159
        },
        "id": "YeQaFaFQefU3",
        "outputId": "a3287c6e-755f-4c77-e9dd-bd63083845e2"
      },
      "execution_count": null,
      "outputs": [
        {
          "output_type": "error",
          "ename": "NameError",
          "evalue": "name 'question_file' is not defined",
          "traceback": [
            "\u001b[0;31m---------------------------------------------------------------------------\u001b[0m",
            "\u001b[0;31mNameError\u001b[0m                                 Traceback (most recent call last)",
            "\u001b[0;32m<ipython-input-78-ced64ef5a697>\u001b[0m in \u001b[0;36m<cell line: 0>\u001b[0;34m()\u001b[0m\n\u001b[0;32m----> 1\u001b[0;31m \u001b[0;32mfor\u001b[0m \u001b[0mline\u001b[0m \u001b[0;32min\u001b[0m \u001b[0mread_file_line_by_line\u001b[0m\u001b[0;34m(\u001b[0m\u001b[0mquestion_file\u001b[0m\u001b[0;34m.\u001b[0m\u001b[0mxlsx\u001b[0m\u001b[0;34m)\u001b[0m\u001b[0;34m:\u001b[0m  \u001b[0;31m# Use the same filename variable\u001b[0m\u001b[0;34m\u001b[0m\u001b[0;34m\u001b[0m\u001b[0m\n\u001b[0m\u001b[1;32m      2\u001b[0m     \u001b[0mprint\u001b[0m\u001b[0;34m(\u001b[0m\u001b[0mline\u001b[0m\u001b[0;34m)\u001b[0m\u001b[0;34m\u001b[0m\u001b[0;34m\u001b[0m\u001b[0m\n",
            "\u001b[0;31mNameError\u001b[0m: name 'question_file' is not defined"
          ]
        }
      ]
    },
    {
      "cell_type": "markdown",
      "source": [
        "8. Use a lambda function in python to sort a list of tuples based on the second element of each tuple"
      ],
      "metadata": {
        "id": "YhqL3b0IDt2N"
      }
    },
    {
      "cell_type": "code",
      "source": [
        "words = [(5, 6), (3, 4), (1,2)]\n",
        "sorted_words = sorted(words, key=lambda x: x[1])\n",
        "print(sorted_words)"
      ],
      "metadata": {
        "colab": {
          "base_uri": "https://localhost:8080/"
        },
        "id": "gyCffledn3EU",
        "outputId": "5633b13c-5a12-469c-acb3-eb02a97ab9ba"
      },
      "execution_count": null,
      "outputs": [
        {
          "output_type": "stream",
          "name": "stdout",
          "text": [
            "[(1, 2), (3, 4), (5, 6)]\n"
          ]
        }
      ]
    },
    {
      "cell_type": "markdown",
      "source": [
        "9. Write a Python program that use 'map()' to convert a list of temrature from celsius to Fahreheit."
      ],
      "metadata": {
        "id": "23qKIodMEMCJ"
      }
    },
    {
      "cell_type": "code",
      "source": [
        "#function to convert Celcius to Fahrenheit:\n",
        "def celsius_to_fahrenheit(celcius):\n",
        "  return(celcius * 9/5)+32\n",
        "\n",
        "#list of temprature in Celsius\n",
        "celsius_temps = [0,20,37,100]\n",
        "\n",
        "#convert to Fahrenhite using map()\n",
        "fahrenhite_temps = list(map(celsius_to_fahrenheit, celsius_temps))\n",
        "print(\"Temprature in Fahrenhite\",fahrenhite_temps)"
      ],
      "metadata": {
        "colab": {
          "base_uri": "https://localhost:8080/"
        },
        "id": "Evv0qpqs0nSi",
        "outputId": "84e66fbb-c955-4e5c-faf6-5e3fc4e42d51"
      },
      "execution_count": null,
      "outputs": [
        {
          "output_type": "stream",
          "name": "stdout",
          "text": [
            "Temprature in Fahrenhite [32.0, 68.0, 98.6, 212.0]\n"
          ]
        }
      ]
    },
    {
      "cell_type": "markdown",
      "source": [
        "10. Create a Python Program that use \"filter()' to remove all the vowel froma gien string"
      ],
      "metadata": {
        "id": "OrbNUhTjEEl9"
      }
    },
    {
      "cell_type": "code",
      "source": [
        "def remove_vowel(char):\n",
        "  return char.lower() not in \"aeiou\"\n",
        "\n",
        "text = 'Data Science is awesome'\n",
        "no_vowel = ''.join(filter(remove_vowel,text))\n",
        "print(no_vowel)"
      ],
      "metadata": {
        "colab": {
          "base_uri": "https://localhost:8080/"
        },
        "id": "YMCDlzQP7kOB",
        "outputId": "5609e6d0-ce49-423a-e2e7-670fe8a0d725"
      },
      "execution_count": null,
      "outputs": [
        {
          "output_type": "stream",
          "name": "stdout",
          "text": [
            "Dt Scnc s wsm\n"
          ]
        }
      ]
    }
  ]
}